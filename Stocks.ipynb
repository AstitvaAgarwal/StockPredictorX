{
 "cells": [
  {
   "cell_type": "code",
   "execution_count": 2,
   "metadata": {},
   "outputs": [
    {
     "name": "stderr",
     "output_type": "stream",
     "text": [
      "d:\\Anaconda\\Lib\\site-packages\\pandas\\core\\arrays\\masked.py:60: UserWarning: Pandas requires version '1.3.6' or newer of 'bottleneck' (version '1.3.5' currently installed).\n",
      "  from pandas.core import (\n"
     ]
    }
   ],
   "source": [
    "import pandas_datareader as pdr\n",
    "import os"
   ]
  },
  {
   "cell_type": "code",
   "execution_count": 3,
   "metadata": {},
   "outputs": [
    {
     "name": "stdout",
     "output_type": "stream",
     "text": [
      "                          date   close    high      low    open    volume  \\\n",
      "0     2020-01-02T00:00:00.000Z  300.35  300.60  295.190  296.24  33911864   \n",
      "1     2020-01-03T00:00:00.000Z  297.43  300.58  296.500  297.15  36633878   \n",
      "2     2020-01-06T00:00:00.000Z  299.80  299.96  292.750  293.79  29644644   \n",
      "3     2020-01-07T00:00:00.000Z  298.39  300.90  297.480  299.84  27877655   \n",
      "4     2020-01-08T00:00:00.000Z  303.19  304.44  297.160  297.16  33090946   \n",
      "...                        ...     ...     ...      ...     ...       ...   \n",
      "1001  2023-12-22T00:00:00.000Z  193.60  195.41  192.970  195.18  37149570   \n",
      "1002  2023-12-26T00:00:00.000Z  193.05  193.89  192.830  193.61  28919310   \n",
      "1003  2023-12-27T00:00:00.000Z  193.15  193.50  191.090  192.49  47899806   \n",
      "1004  2023-12-28T00:00:00.000Z  193.58  194.66  193.170  194.14  34049898   \n",
      "1005  2023-12-29T00:00:00.000Z  192.53  194.40  191.725  193.90  42672148   \n",
      "\n",
      "        adjClose     adjHigh      adjLow     adjOpen  adjVolume  divCash  \\\n",
      "0      72.877480   72.938141   71.625448   71.880222  135647456      0.0   \n",
      "1      72.168966   72.933288   71.943309   72.101026  146535512      0.0   \n",
      "2      72.744027   72.782850   71.033402   71.285750  118578576      0.0   \n",
      "3      72.401902   73.010933   72.181098   72.753733  111510620      0.0   \n",
      "4      73.566583   73.869885   72.103453   72.103453  132363784      0.0   \n",
      "...          ...         ...         ...         ...        ...      ...   \n",
      "1001  192.868905  194.672070  192.241284  194.442938   37149570      0.0   \n",
      "1002  192.320982  193.157810  192.101813  192.878867   28919310      0.0   \n",
      "1003  192.420604  192.769283  190.368384  191.763097   47899806      0.0   \n",
      "1004  192.848981  193.924902  192.440529  193.406866   34049898      0.0   \n",
      "1005  191.802946  193.665884  191.000986  193.167772   42672148      0.0   \n",
      "\n",
      "      splitFactor  \n",
      "0             1.0  \n",
      "1             1.0  \n",
      "2             1.0  \n",
      "3             1.0  \n",
      "4             1.0  \n",
      "...           ...  \n",
      "1001          1.0  \n",
      "1002          1.0  \n",
      "1003          1.0  \n",
      "1004          1.0  \n",
      "1005          1.0  \n",
      "\n",
      "[1006 rows x 13 columns]\n"
     ]
    }
   ],
   "source": [
    "import requests\n",
    "import pandas as pd\n",
    "\n",
    "# Tiingo API key and base URL for fetching stock prices\n",
    "api_key = '8051453321d6869e90c54863883992e5fca516a4'\n",
    "url = 'https://api.tiingo.com/tiingo/daily/AAPL/prices'\n",
    "\n",
    "# Set the headers with API key authorization\n",
    "headers = {\n",
    "    'Content-Type': 'application/json',\n",
    "    'Authorization': f'Token {api_key}'\n",
    "}\n",
    "\n",
    "# Define any parameters (optional, for example startDate, endDate, etc.)\n",
    "params = {\n",
    "    'startDate': '2020-01-01',\n",
    "    'endDate': '2023-12-31'\n",
    "}\n",
    "\n",
    "# Make the API request\n",
    "response = requests.get(url, headers=headers, params=params)\n",
    "\n",
    "# Check if the request was successful\n",
    "if response.status_code == 200:\n",
    "    # Convert the JSON response into a pandas DataFrame\n",
    "    data = response.json()\n",
    "    df = pd.DataFrame(data)\n",
    "    print(df)\n",
    "else:\n",
    "    print(f\"Error: {response.status_code} - {response.text}\")\n",
    "\n"
   ]
  },
  {
   "cell_type": "code",
   "execution_count": 4,
   "metadata": {},
   "outputs": [],
   "source": [
    "df.to_csv('AAPL.csv')"
   ]
  },
  {
   "cell_type": "code",
   "execution_count": 5,
   "metadata": {},
   "outputs": [
    {
     "data": {
      "text/html": [
       "<div>\n",
       "<style scoped>\n",
       "    .dataframe tbody tr th:only-of-type {\n",
       "        vertical-align: middle;\n",
       "    }\n",
       "\n",
       "    .dataframe tbody tr th {\n",
       "        vertical-align: top;\n",
       "    }\n",
       "\n",
       "    .dataframe thead th {\n",
       "        text-align: right;\n",
       "    }\n",
       "</style>\n",
       "<table border=\"1\" class=\"dataframe\">\n",
       "  <thead>\n",
       "    <tr style=\"text-align: right;\">\n",
       "      <th></th>\n",
       "      <th>Unnamed: 0</th>\n",
       "      <th>date</th>\n",
       "      <th>close</th>\n",
       "      <th>high</th>\n",
       "      <th>low</th>\n",
       "      <th>open</th>\n",
       "      <th>volume</th>\n",
       "      <th>adjClose</th>\n",
       "      <th>adjHigh</th>\n",
       "      <th>adjLow</th>\n",
       "      <th>adjOpen</th>\n",
       "      <th>adjVolume</th>\n",
       "      <th>divCash</th>\n",
       "      <th>splitFactor</th>\n",
       "    </tr>\n",
       "  </thead>\n",
       "  <tbody>\n",
       "    <tr>\n",
       "      <th>0</th>\n",
       "      <td>0</td>\n",
       "      <td>2020-01-02T00:00:00.000Z</td>\n",
       "      <td>300.35</td>\n",
       "      <td>300.60</td>\n",
       "      <td>295.19</td>\n",
       "      <td>296.24</td>\n",
       "      <td>33911864</td>\n",
       "      <td>72.877480</td>\n",
       "      <td>72.938141</td>\n",
       "      <td>71.625448</td>\n",
       "      <td>71.880222</td>\n",
       "      <td>135647456</td>\n",
       "      <td>0.0</td>\n",
       "      <td>1.0</td>\n",
       "    </tr>\n",
       "    <tr>\n",
       "      <th>1</th>\n",
       "      <td>1</td>\n",
       "      <td>2020-01-03T00:00:00.000Z</td>\n",
       "      <td>297.43</td>\n",
       "      <td>300.58</td>\n",
       "      <td>296.50</td>\n",
       "      <td>297.15</td>\n",
       "      <td>36633878</td>\n",
       "      <td>72.168966</td>\n",
       "      <td>72.933288</td>\n",
       "      <td>71.943309</td>\n",
       "      <td>72.101026</td>\n",
       "      <td>146535512</td>\n",
       "      <td>0.0</td>\n",
       "      <td>1.0</td>\n",
       "    </tr>\n",
       "    <tr>\n",
       "      <th>2</th>\n",
       "      <td>2</td>\n",
       "      <td>2020-01-06T00:00:00.000Z</td>\n",
       "      <td>299.80</td>\n",
       "      <td>299.96</td>\n",
       "      <td>292.75</td>\n",
       "      <td>293.79</td>\n",
       "      <td>29644644</td>\n",
       "      <td>72.744027</td>\n",
       "      <td>72.782850</td>\n",
       "      <td>71.033402</td>\n",
       "      <td>71.285750</td>\n",
       "      <td>118578576</td>\n",
       "      <td>0.0</td>\n",
       "      <td>1.0</td>\n",
       "    </tr>\n",
       "    <tr>\n",
       "      <th>3</th>\n",
       "      <td>3</td>\n",
       "      <td>2020-01-07T00:00:00.000Z</td>\n",
       "      <td>298.39</td>\n",
       "      <td>300.90</td>\n",
       "      <td>297.48</td>\n",
       "      <td>299.84</td>\n",
       "      <td>27877655</td>\n",
       "      <td>72.401902</td>\n",
       "      <td>73.010933</td>\n",
       "      <td>72.181098</td>\n",
       "      <td>72.753733</td>\n",
       "      <td>111510620</td>\n",
       "      <td>0.0</td>\n",
       "      <td>1.0</td>\n",
       "    </tr>\n",
       "    <tr>\n",
       "      <th>4</th>\n",
       "      <td>4</td>\n",
       "      <td>2020-01-08T00:00:00.000Z</td>\n",
       "      <td>303.19</td>\n",
       "      <td>304.44</td>\n",
       "      <td>297.16</td>\n",
       "      <td>297.16</td>\n",
       "      <td>33090946</td>\n",
       "      <td>73.566583</td>\n",
       "      <td>73.869885</td>\n",
       "      <td>72.103453</td>\n",
       "      <td>72.103453</td>\n",
       "      <td>132363784</td>\n",
       "      <td>0.0</td>\n",
       "      <td>1.0</td>\n",
       "    </tr>\n",
       "  </tbody>\n",
       "</table>\n",
       "</div>"
      ],
      "text/plain": [
       "   Unnamed: 0                      date   close    high     low    open  \\\n",
       "0           0  2020-01-02T00:00:00.000Z  300.35  300.60  295.19  296.24   \n",
       "1           1  2020-01-03T00:00:00.000Z  297.43  300.58  296.50  297.15   \n",
       "2           2  2020-01-06T00:00:00.000Z  299.80  299.96  292.75  293.79   \n",
       "3           3  2020-01-07T00:00:00.000Z  298.39  300.90  297.48  299.84   \n",
       "4           4  2020-01-08T00:00:00.000Z  303.19  304.44  297.16  297.16   \n",
       "\n",
       "     volume   adjClose    adjHigh     adjLow    adjOpen  adjVolume  divCash  \\\n",
       "0  33911864  72.877480  72.938141  71.625448  71.880222  135647456      0.0   \n",
       "1  36633878  72.168966  72.933288  71.943309  72.101026  146535512      0.0   \n",
       "2  29644644  72.744027  72.782850  71.033402  71.285750  118578576      0.0   \n",
       "3  27877655  72.401902  73.010933  72.181098  72.753733  111510620      0.0   \n",
       "4  33090946  73.566583  73.869885  72.103453  72.103453  132363784      0.0   \n",
       "\n",
       "   splitFactor  \n",
       "0          1.0  \n",
       "1          1.0  \n",
       "2          1.0  \n",
       "3          1.0  \n",
       "4          1.0  "
      ]
     },
     "execution_count": 5,
     "metadata": {},
     "output_type": "execute_result"
    }
   ],
   "source": [
    "df= pd.read_csv('AAPL.csv')\n",
    "df.head()"
   ]
  },
  {
   "cell_type": "code",
   "execution_count": 6,
   "metadata": {},
   "outputs": [
    {
     "data": {
      "text/html": [
       "<div>\n",
       "<style scoped>\n",
       "    .dataframe tbody tr th:only-of-type {\n",
       "        vertical-align: middle;\n",
       "    }\n",
       "\n",
       "    .dataframe tbody tr th {\n",
       "        vertical-align: top;\n",
       "    }\n",
       "\n",
       "    .dataframe thead th {\n",
       "        text-align: right;\n",
       "    }\n",
       "</style>\n",
       "<table border=\"1\" class=\"dataframe\">\n",
       "  <thead>\n",
       "    <tr style=\"text-align: right;\">\n",
       "      <th></th>\n",
       "      <th>Unnamed: 0</th>\n",
       "      <th>date</th>\n",
       "      <th>close</th>\n",
       "      <th>high</th>\n",
       "      <th>low</th>\n",
       "      <th>open</th>\n",
       "      <th>volume</th>\n",
       "      <th>adjClose</th>\n",
       "      <th>adjHigh</th>\n",
       "      <th>adjLow</th>\n",
       "      <th>adjOpen</th>\n",
       "      <th>adjVolume</th>\n",
       "      <th>divCash</th>\n",
       "      <th>splitFactor</th>\n",
       "    </tr>\n",
       "  </thead>\n",
       "  <tbody>\n",
       "    <tr>\n",
       "      <th>1001</th>\n",
       "      <td>1001</td>\n",
       "      <td>2023-12-22T00:00:00.000Z</td>\n",
       "      <td>193.60</td>\n",
       "      <td>195.41</td>\n",
       "      <td>192.970</td>\n",
       "      <td>195.18</td>\n",
       "      <td>37149570</td>\n",
       "      <td>192.868905</td>\n",
       "      <td>194.672070</td>\n",
       "      <td>192.241284</td>\n",
       "      <td>194.442938</td>\n",
       "      <td>37149570</td>\n",
       "      <td>0.0</td>\n",
       "      <td>1.0</td>\n",
       "    </tr>\n",
       "    <tr>\n",
       "      <th>1002</th>\n",
       "      <td>1002</td>\n",
       "      <td>2023-12-26T00:00:00.000Z</td>\n",
       "      <td>193.05</td>\n",
       "      <td>193.89</td>\n",
       "      <td>192.830</td>\n",
       "      <td>193.61</td>\n",
       "      <td>28919310</td>\n",
       "      <td>192.320982</td>\n",
       "      <td>193.157810</td>\n",
       "      <td>192.101813</td>\n",
       "      <td>192.878867</td>\n",
       "      <td>28919310</td>\n",
       "      <td>0.0</td>\n",
       "      <td>1.0</td>\n",
       "    </tr>\n",
       "    <tr>\n",
       "      <th>1003</th>\n",
       "      <td>1003</td>\n",
       "      <td>2023-12-27T00:00:00.000Z</td>\n",
       "      <td>193.15</td>\n",
       "      <td>193.50</td>\n",
       "      <td>191.090</td>\n",
       "      <td>192.49</td>\n",
       "      <td>47899806</td>\n",
       "      <td>192.420604</td>\n",
       "      <td>192.769283</td>\n",
       "      <td>190.368384</td>\n",
       "      <td>191.763097</td>\n",
       "      <td>47899806</td>\n",
       "      <td>0.0</td>\n",
       "      <td>1.0</td>\n",
       "    </tr>\n",
       "    <tr>\n",
       "      <th>1004</th>\n",
       "      <td>1004</td>\n",
       "      <td>2023-12-28T00:00:00.000Z</td>\n",
       "      <td>193.58</td>\n",
       "      <td>194.66</td>\n",
       "      <td>193.170</td>\n",
       "      <td>194.14</td>\n",
       "      <td>34049898</td>\n",
       "      <td>192.848981</td>\n",
       "      <td>193.924902</td>\n",
       "      <td>192.440529</td>\n",
       "      <td>193.406866</td>\n",
       "      <td>34049898</td>\n",
       "      <td>0.0</td>\n",
       "      <td>1.0</td>\n",
       "    </tr>\n",
       "    <tr>\n",
       "      <th>1005</th>\n",
       "      <td>1005</td>\n",
       "      <td>2023-12-29T00:00:00.000Z</td>\n",
       "      <td>192.53</td>\n",
       "      <td>194.40</td>\n",
       "      <td>191.725</td>\n",
       "      <td>193.90</td>\n",
       "      <td>42672148</td>\n",
       "      <td>191.802946</td>\n",
       "      <td>193.665884</td>\n",
       "      <td>191.000986</td>\n",
       "      <td>193.167772</td>\n",
       "      <td>42672148</td>\n",
       "      <td>0.0</td>\n",
       "      <td>1.0</td>\n",
       "    </tr>\n",
       "  </tbody>\n",
       "</table>\n",
       "</div>"
      ],
      "text/plain": [
       "      Unnamed: 0                      date   close    high      low    open  \\\n",
       "1001        1001  2023-12-22T00:00:00.000Z  193.60  195.41  192.970  195.18   \n",
       "1002        1002  2023-12-26T00:00:00.000Z  193.05  193.89  192.830  193.61   \n",
       "1003        1003  2023-12-27T00:00:00.000Z  193.15  193.50  191.090  192.49   \n",
       "1004        1004  2023-12-28T00:00:00.000Z  193.58  194.66  193.170  194.14   \n",
       "1005        1005  2023-12-29T00:00:00.000Z  192.53  194.40  191.725  193.90   \n",
       "\n",
       "        volume    adjClose     adjHigh      adjLow     adjOpen  adjVolume  \\\n",
       "1001  37149570  192.868905  194.672070  192.241284  194.442938   37149570   \n",
       "1002  28919310  192.320982  193.157810  192.101813  192.878867   28919310   \n",
       "1003  47899806  192.420604  192.769283  190.368384  191.763097   47899806   \n",
       "1004  34049898  192.848981  193.924902  192.440529  193.406866   34049898   \n",
       "1005  42672148  191.802946  193.665884  191.000986  193.167772   42672148   \n",
       "\n",
       "      divCash  splitFactor  \n",
       "1001      0.0          1.0  \n",
       "1002      0.0          1.0  \n",
       "1003      0.0          1.0  \n",
       "1004      0.0          1.0  \n",
       "1005      0.0          1.0  "
      ]
     },
     "execution_count": 6,
     "metadata": {},
     "output_type": "execute_result"
    }
   ],
   "source": [
    "df.tail()"
   ]
  },
  {
   "cell_type": "code",
   "execution_count": 7,
   "metadata": {},
   "outputs": [],
   "source": [
    "df1 = df.reset_index()['close']"
   ]
  },
  {
   "cell_type": "code",
   "execution_count": 8,
   "metadata": {},
   "outputs": [
    {
     "data": {
      "text/plain": [
       "(1006,)"
      ]
     },
     "execution_count": 8,
     "metadata": {},
     "output_type": "execute_result"
    }
   ],
   "source": [
    "df1.shape"
   ]
  },
  {
   "cell_type": "code",
   "execution_count": 9,
   "metadata": {},
   "outputs": [
    {
     "data": {
      "text/plain": [
       "[<matplotlib.lines.Line2D at 0x1b26c69fe50>]"
      ]
     },
     "execution_count": 9,
     "metadata": {},
     "output_type": "execute_result"
    },
    {
     "data": {
      "image/png": "[encoded data removed]",
      "text/plain": [
       "<Figure size 640x480 with 1 Axes>"
      ]
     },
     "metadata": {},
     "output_type": "display_data"
    }
   ],
   "source": [
    "import matplotlib.pyplot as plt\n",
    "plt.plot(df1)"
   ]
  },
  {
   "cell_type": "code",
   "execution_count": 10,
   "metadata": {},
   "outputs": [],
   "source": [
    "import numpy as np"
   ]
  },
  {
   "cell_type": "code",
   "execution_count": 11,
   "metadata": {},
   "outputs": [
    {
     "data": {
      "text/plain": [
       "0       300.35\n",
       "1       297.43\n",
       "2       299.80\n",
       "3       298.39\n",
       "4       303.19\n",
       "         ...  \n",
       "1001    193.60\n",
       "1002    193.05\n",
       "1003    193.15\n",
       "1004    193.58\n",
       "1005    192.53\n",
       "Name: close, Length: 1006, dtype: float64"
      ]
     },
     "execution_count": 11,
     "metadata": {},
     "output_type": "execute_result"
    }
   ],
   "source": [
    "df1"
   ]
  },
  {
   "cell_type": "code",
   "execution_count": 12,
   "metadata": {},
   "outputs": [],
   "source": [
    "from sklearn.preprocessing import MinMaxScaler\n",
    "scaler = MinMaxScaler(feature_range=(0,1))\n",
    "df1= scaler.fit_transform(np.array(df1).reshape(-1,1))"
   ]
  },
  {
   "cell_type": "code",
   "execution_count": 13,
   "metadata": {},
   "outputs": [
    {
     "data": {
      "text/plain": [
       "array([[0.48468378],\n",
       "       [0.47737007],\n",
       "       [0.4833062 ],\n",
       "       ...,\n",
       "       [0.21618034],\n",
       "       [0.21725736],\n",
       "       [0.21462743]])"
      ]
     },
     "execution_count": 13,
     "metadata": {},
     "output_type": "execute_result"
    }
   ],
   "source": [
    "df1"
   ]
  },
  {
   "cell_type": "markdown",
   "metadata": {},
   "source": [
    "Splitting dataset into train and test "
   ]
  },
  {
   "cell_type": "code",
   "execution_count": 14,
   "metadata": {},
   "outputs": [],
   "source": [
    "training_size = int(len(df1)*0.65)\n",
    "test_size = len(df1)-training_size\n",
    "train_data, test_data = df1[0:training_size,:],df1[training_size:len(df1),:1]"
   ]
  },
  {
   "cell_type": "code",
   "execution_count": 15,
   "metadata": {},
   "outputs": [],
   "source": [
    "def create_dataset(dataset, time_step = 1):\n",
    "    dataX,dataY = [],[]\n",
    "    for i in range(len(dataset)-time_step-1):\n",
    "        a = dataset[i:(i+time_step),0]\n",
    "        dataX.append(a)\n",
    "        dataY.append(dataset[i+time_step,0])\n",
    "    return np.array(dataX), np.array(dataY)"
   ]
  },
  {
   "cell_type": "code",
   "execution_count": 16,
   "metadata": {},
   "outputs": [],
   "source": [
    "time_step = 100\n",
    "X_train , y_train = create_dataset(train_data, time_step)\n",
    "X_test, y_test = create_dataset(test_data, time_step)"
   ]
  },
  {
   "cell_type": "code",
   "execution_count": 17,
   "metadata": {},
   "outputs": [
    {
     "name": "stdout",
     "output_type": "stream",
     "text": [
      "(552, 100)\n",
      "(552,)\n"
     ]
    },
    {
     "data": {
      "text/plain": [
       "(None, None)"
      ]
     },
     "execution_count": 17,
     "metadata": {},
     "output_type": "execute_result"
    }
   ],
   "source": [
    "print(X_train.shape), print(y_train.shape)"
   ]
  },
  {
   "cell_type": "code",
   "execution_count": 18,
   "metadata": {},
   "outputs": [
    {
     "name": "stdout",
     "output_type": "stream",
     "text": [
      "(252, 100)\n",
      "(252,)\n"
     ]
    },
    {
     "data": {
      "text/plain": [
       "(None, None)"
      ]
     },
     "execution_count": 18,
     "metadata": {},
     "output_type": "execute_result"
    }
   ],
   "source": [
    "print(X_test.shape), print(y_test.shape)"
   ]
  },
  {
   "cell_type": "markdown",
   "metadata": {},
   "source": [
    "Reshape input to be [samples, time steps, features] #3d array which is required for LSTM"
   ]
  },
  {
   "cell_type": "code",
   "execution_count": 19,
   "metadata": {},
   "outputs": [],
   "source": [
    "X_train = X_train.reshape(X_train.shape[0],X_train.shape[1],1)\n",
    "X_test = X_test.reshape(X_test.shape[0],X_test.shape[1],1)\n"
   ]
  },
  {
   "cell_type": "code",
   "execution_count": 20,
   "metadata": {},
   "outputs": [],
   "source": [
    "#creating the stacked LSTM Model\n",
    "from tensorflow.keras.models import Sequential\n",
    "from tensorflow.keras.layers import Dense\n",
    "from tensorflow.keras.layers import LSTM"
   ]
  },
  {
   "cell_type": "code",
   "execution_count": 24,
   "metadata": {},
   "outputs": [],
   "source": [
    "model = Sequential()\n",
    "model.add(LSTM(50,return_sequences= True, input_shape = (100,1)))\n",
    "model.add(LSTM(50,return_sequences=True))\n",
    "model.add(LSTM(50))\n",
    "model.add(Dense(1))\n",
    "model.compile(loss='mean_squared_error',optimizer = 'adam')"
   ]
  },
  {
   "cell_type": "code",
   "execution_count": 25,
   "metadata": {},
   "outputs": [
    {
     "name": "stdout",
     "output_type": "stream",
     "text": [
      "Model: \"sequential_3\"\n",
      "_________________________________________________________________\n",
      " Layer (type)                Output Shape              Param #   \n",
      "=================================================================\n",
      " lstm (LSTM)                 (None, 100, 50)           10400     \n",
      "                                                                 \n",
      " lstm_1 (LSTM)               (None, 100, 50)           20200     \n",
      "                                                                 \n",
      " lstm_2 (LSTM)               (None, 50)                20200     \n",
      "                                                                 \n",
      " dense (Dense)               (None, 1)                 51        \n",
      "                                                                 \n",
      "=================================================================\n",
      "Total params: 50851 (198.64 KB)\n",
      "Trainable params: 50851 (198.64 KB)\n",
      "Non-trainable params: 0 (0.00 Byte)\n",
      "_________________________________________________________________\n"
     ]
    }
   ],
   "source": [
    "model.summary()"
   ]
  },
  {
   "cell_type": "code",
   "execution_count": 26,
   "metadata": {},
   "outputs": [
    {
     "name": "stdout",
     "output_type": "stream",
     "text": [
      "Epoch 1/100\n",
      "9/9 [==============================] - 9s 290ms/step - loss: 0.0360 - val_loss: 0.0036\n",
      "Epoch 2/100\n",
      "9/9 [==============================] - 1s 145ms/step - loss: 0.0187 - val_loss: 9.8512e-04\n",
      "Epoch 3/100\n",
      "9/9 [==============================] - 1s 150ms/step - loss: 0.0142 - val_loss: 8.2512e-04\n",
      "Epoch 4/100\n",
      "9/9 [==============================] - 1s 153ms/step - loss: 0.0112 - val_loss: 2.8154e-04\n",
      "Epoch 5/100\n",
      "9/9 [==============================] - 1s 157ms/step - loss: 0.0097 - val_loss: 2.2853e-04\n",
      "Epoch 6/100\n",
      "9/9 [==============================] - 1s 141ms/step - loss: 0.0088 - val_loss: 7.0820e-04\n",
      "Epoch 7/100\n",
      "9/9 [==============================] - 1s 148ms/step - loss: 0.0083 - val_loss: 1.8727e-04\n",
      "Epoch 8/100\n",
      "9/9 [==============================] - 1s 139ms/step - loss: 0.0072 - val_loss: 2.5791e-04\n",
      "Epoch 9/100\n",
      "9/9 [==============================] - 1s 150ms/step - loss: 0.0069 - val_loss: 7.5486e-04\n",
      "Epoch 10/100\n",
      "9/9 [==============================] - 1s 138ms/step - loss: 0.0068 - val_loss: 3.8791e-04\n",
      "Epoch 11/100\n",
      "9/9 [==============================] - 1s 138ms/step - loss: 0.0064 - val_loss: 2.0291e-04\n",
      "Epoch 12/100\n",
      "9/9 [==============================] - 1s 143ms/step - loss: 0.0054 - val_loss: 3.8015e-04\n",
      "Epoch 13/100\n",
      "9/9 [==============================] - 1s 146ms/step - loss: 0.0051 - val_loss: 0.0015\n",
      "Epoch 14/100\n",
      "9/9 [==============================] - 1s 147ms/step - loss: 0.0045 - val_loss: 2.7885e-04\n",
      "Epoch 15/100\n",
      "9/9 [==============================] - 1s 145ms/step - loss: 0.0052 - val_loss: 0.0014\n",
      "Epoch 16/100\n",
      "9/9 [==============================] - 1s 137ms/step - loss: 0.0049 - val_loss: 5.4570e-04\n",
      "Epoch 17/100\n",
      "9/9 [==============================] - 1s 136ms/step - loss: 0.0043 - val_loss: 2.5115e-04\n",
      "Epoch 18/100\n",
      "9/9 [==============================] - 1s 140ms/step - loss: 0.0040 - val_loss: 5.2613e-04\n",
      "Epoch 19/100\n",
      "9/9 [==============================] - 1s 137ms/step - loss: 0.0043 - val_loss: 0.0010\n",
      "Epoch 20/100\n",
      "9/9 [==============================] - 1s 150ms/step - loss: 0.0059 - val_loss: 3.9713e-04\n",
      "Epoch 21/100\n",
      "9/9 [==============================] - 1s 144ms/step - loss: 0.0046 - val_loss: 6.2683e-04\n",
      "Epoch 22/100\n",
      "9/9 [==============================] - 1s 156ms/step - loss: 0.0038 - val_loss: 2.6396e-04\n",
      "Epoch 23/100\n",
      "9/9 [==============================] - 1s 135ms/step - loss: 0.0035 - val_loss: 6.6750e-04\n",
      "Epoch 24/100\n",
      "9/9 [==============================] - 1s 135ms/step - loss: 0.0035 - val_loss: 3.8131e-04\n",
      "Epoch 25/100\n",
      "9/9 [==============================] - 1s 134ms/step - loss: 0.0028 - val_loss: 2.2663e-04\n",
      "Epoch 26/100\n",
      "9/9 [==============================] - 1s 135ms/step - loss: 0.0029 - val_loss: 2.1747e-04\n",
      "Epoch 27/100\n",
      "9/9 [==============================] - 1s 128ms/step - loss: 0.0025 - val_loss: 2.4323e-04\n",
      "Epoch 28/100\n",
      "9/9 [==============================] - 1s 136ms/step - loss: 0.0027 - val_loss: 1.6683e-04\n",
      "Epoch 29/100\n",
      "9/9 [==============================] - 1s 134ms/step - loss: 0.0023 - val_loss: 2.0982e-04\n",
      "Epoch 30/100\n",
      "9/9 [==============================] - 1s 139ms/step - loss: 0.0022 - val_loss: 1.9683e-04\n",
      "Epoch 31/100\n",
      "9/9 [==============================] - 1s 137ms/step - loss: 0.0023 - val_loss: 3.1281e-04\n",
      "Epoch 32/100\n",
      "9/9 [==============================] - 1s 130ms/step - loss: 0.0025 - val_loss: 2.0160e-04\n",
      "Epoch 33/100\n",
      "9/9 [==============================] - 1s 132ms/step - loss: 0.0024 - val_loss: 1.8513e-04\n",
      "Epoch 34/100\n",
      "9/9 [==============================] - 1s 127ms/step - loss: 0.0022 - val_loss: 2.0793e-04\n",
      "Epoch 35/100\n",
      "9/9 [==============================] - 1s 131ms/step - loss: 0.0021 - val_loss: 1.8734e-04\n",
      "Epoch 36/100\n",
      "9/9 [==============================] - 1s 132ms/step - loss: 0.0021 - val_loss: 1.6398e-04\n",
      "Epoch 37/100\n",
      "9/9 [==============================] - 1s 137ms/step - loss: 0.0029 - val_loss: 2.6196e-04\n",
      "Epoch 38/100\n",
      "9/9 [==============================] - 1s 135ms/step - loss: 0.0023 - val_loss: 1.4353e-04\n",
      "Epoch 39/100\n",
      "9/9 [==============================] - 1s 138ms/step - loss: 0.0026 - val_loss: 1.4188e-04\n",
      "Epoch 40/100\n",
      "9/9 [==============================] - 1s 134ms/step - loss: 0.0023 - val_loss: 3.6284e-04\n",
      "Epoch 41/100\n",
      "9/9 [==============================] - 1s 136ms/step - loss: 0.0027 - val_loss: 1.6592e-04\n",
      "Epoch 42/100\n",
      "9/9 [==============================] - 1s 132ms/step - loss: 0.0027 - val_loss: 1.9438e-04\n",
      "Epoch 43/100\n",
      "9/9 [==============================] - 1s 132ms/step - loss: 0.0023 - val_loss: 2.2966e-04\n",
      "Epoch 44/100\n",
      "9/9 [==============================] - 1s 128ms/step - loss: 0.0022 - val_loss: 1.7653e-04\n",
      "Epoch 45/100\n",
      "9/9 [==============================] - 1s 138ms/step - loss: 0.0019 - val_loss: 1.6555e-04\n",
      "Epoch 46/100\n",
      "9/9 [==============================] - 2s 178ms/step - loss: 0.0018 - val_loss: 1.9346e-04\n",
      "Epoch 47/100\n",
      "9/9 [==============================] - 2s 191ms/step - loss: 0.0018 - val_loss: 1.8977e-04\n",
      "Epoch 48/100\n",
      "9/9 [==============================] - 2s 176ms/step - loss: 0.0027 - val_loss: 1.6230e-04\n",
      "Epoch 49/100\n",
      "9/9 [==============================] - 2s 173ms/step - loss: 0.0023 - val_loss: 2.3477e-04\n",
      "Epoch 50/100\n",
      "9/9 [==============================] - 2s 186ms/step - loss: 0.0020 - val_loss: 2.1373e-04\n",
      "Epoch 51/100\n",
      "9/9 [==============================] - 1s 143ms/step - loss: 0.0019 - val_loss: 3.5601e-04\n",
      "Epoch 52/100\n",
      "9/9 [==============================] - 1s 145ms/step - loss: 0.0023 - val_loss: 1.8547e-04\n",
      "Epoch 53/100\n",
      "9/9 [==============================] - 1s 146ms/step - loss: 0.0018 - val_loss: 1.6147e-04\n",
      "Epoch 54/100\n",
      "9/9 [==============================] - 1s 136ms/step - loss: 0.0018 - val_loss: 1.9194e-04\n",
      "Epoch 55/100\n",
      "9/9 [==============================] - 1s 141ms/step - loss: 0.0018 - val_loss: 2.0511e-04\n",
      "Epoch 56/100\n",
      "9/9 [==============================] - 1s 137ms/step - loss: 0.0022 - val_loss: 1.4577e-04\n",
      "Epoch 57/100\n",
      "9/9 [==============================] - 1s 138ms/step - loss: 0.0017 - val_loss: 1.9591e-04\n",
      "Epoch 58/100\n",
      "9/9 [==============================] - 1s 144ms/step - loss: 0.0015 - val_loss: 1.5750e-04\n",
      "Epoch 59/100\n",
      "9/9 [==============================] - 1s 143ms/step - loss: 0.0017 - val_loss: 4.3975e-04\n",
      "Epoch 60/100\n",
      "9/9 [==============================] - 1s 144ms/step - loss: 0.0017 - val_loss: 2.3482e-04\n",
      "Epoch 61/100\n",
      "9/9 [==============================] - 1s 151ms/step - loss: 0.0015 - val_loss: 3.8751e-04\n",
      "Epoch 62/100\n",
      "9/9 [==============================] - 1s 136ms/step - loss: 0.0015 - val_loss: 1.4595e-04\n",
      "Epoch 63/100\n",
      "9/9 [==============================] - 1s 139ms/step - loss: 0.0011 - val_loss: 1.9545e-04\n",
      "Epoch 64/100\n",
      "9/9 [==============================] - 2s 179ms/step - loss: 0.0017 - val_loss: 2.8471e-04\n",
      "Epoch 65/100\n",
      "9/9 [==============================] - 1s 150ms/step - loss: 0.0016 - val_loss: 1.7647e-04\n",
      "Epoch 66/100\n",
      "9/9 [==============================] - 1s 149ms/step - loss: 0.0013 - val_loss: 4.0401e-04\n",
      "Epoch 67/100\n",
      "9/9 [==============================] - 1s 166ms/step - loss: 0.0018 - val_loss: 1.5980e-04\n",
      "Epoch 68/100\n",
      "9/9 [==============================] - 2s 210ms/step - loss: 0.0025 - val_loss: 2.1412e-04\n",
      "Epoch 69/100\n",
      "9/9 [==============================] - 1s 144ms/step - loss: 0.0015 - val_loss: 3.1678e-04\n",
      "Epoch 70/100\n",
      "9/9 [==============================] - 1s 140ms/step - loss: 0.0016 - val_loss: 2.6154e-04\n",
      "Epoch 71/100\n",
      "9/9 [==============================] - 1s 152ms/step - loss: 0.0018 - val_loss: 6.2024e-04\n",
      "Epoch 72/100\n",
      "9/9 [==============================] - 1s 130ms/step - loss: 0.0016 - val_loss: 1.5280e-04\n",
      "Epoch 73/100\n",
      "9/9 [==============================] - 1s 162ms/step - loss: 0.0014 - val_loss: 6.4374e-04\n",
      "Epoch 74/100\n",
      "9/9 [==============================] - 2s 186ms/step - loss: 0.0057 - val_loss: 3.4034e-04\n",
      "Epoch 75/100\n",
      "9/9 [==============================] - 1s 146ms/step - loss: 0.0047 - val_loss: 2.0062e-04\n",
      "Epoch 76/100\n",
      "9/9 [==============================] - 1s 158ms/step - loss: 0.0029 - val_loss: 1.6693e-04\n",
      "Epoch 77/100\n",
      "9/9 [==============================] - 1s 138ms/step - loss: 0.0035 - val_loss: 4.2438e-04\n",
      "Epoch 78/100\n",
      "9/9 [==============================] - 2s 175ms/step - loss: 0.0024 - val_loss: 1.4128e-04\n",
      "Epoch 79/100\n",
      "9/9 [==============================] - 1s 131ms/step - loss: 0.0025 - val_loss: 3.0485e-04\n",
      "Epoch 80/100\n",
      "9/9 [==============================] - 1s 148ms/step - loss: 0.0022 - val_loss: 2.1846e-04\n",
      "Epoch 81/100\n",
      "9/9 [==============================] - 1s 139ms/step - loss: 0.0017 - val_loss: 2.1677e-04\n",
      "Epoch 82/100\n",
      "9/9 [==============================] - 1s 142ms/step - loss: 0.0018 - val_loss: 3.7526e-04\n",
      "Epoch 83/100\n",
      "9/9 [==============================] - 1s 138ms/step - loss: 0.0015 - val_loss: 2.2358e-04\n",
      "Epoch 84/100\n",
      "9/9 [==============================] - 1s 147ms/step - loss: 0.0013 - val_loss: 1.4935e-04\n",
      "Epoch 85/100\n",
      "9/9 [==============================] - 1s 142ms/step - loss: 0.0016 - val_loss: 7.2653e-04\n",
      "Epoch 86/100\n",
      "9/9 [==============================] - 1s 138ms/step - loss: 0.0023 - val_loss: 1.5398e-04\n",
      "Epoch 87/100\n",
      "9/9 [==============================] - 1s 145ms/step - loss: 0.0019 - val_loss: 7.1329e-04\n",
      "Epoch 88/100\n",
      "9/9 [==============================] - 1s 139ms/step - loss: 0.0020 - val_loss: 1.4377e-04\n",
      "Epoch 89/100\n",
      "9/9 [==============================] - 1s 142ms/step - loss: 0.0012 - val_loss: 2.1547e-04\n",
      "Epoch 90/100\n",
      "9/9 [==============================] - 1s 146ms/step - loss: 0.0017 - val_loss: 4.6415e-04\n",
      "Epoch 91/100\n",
      "9/9 [==============================] - 1s 138ms/step - loss: 0.0016 - val_loss: 1.4978e-04\n",
      "Epoch 92/100\n",
      "9/9 [==============================] - 1s 141ms/step - loss: 0.0010 - val_loss: 1.7213e-04\n",
      "Epoch 93/100\n",
      "9/9 [==============================] - 1s 137ms/step - loss: 0.0017 - val_loss: 1.6872e-04\n",
      "Epoch 94/100\n",
      "9/9 [==============================] - 1s 144ms/step - loss: 0.0018 - val_loss: 3.4097e-04\n",
      "Epoch 95/100\n",
      "9/9 [==============================] - 2s 185ms/step - loss: 0.0025 - val_loss: 3.1802e-04\n",
      "Epoch 96/100\n",
      "9/9 [==============================] - 1s 152ms/step - loss: 0.0024 - val_loss: 1.8162e-04\n",
      "Epoch 97/100\n",
      "9/9 [==============================] - 1s 165ms/step - loss: 0.0035 - val_loss: 1.7999e-04\n",
      "Epoch 98/100\n",
      "9/9 [==============================] - 1s 151ms/step - loss: 0.0021 - val_loss: 1.6117e-04\n",
      "Epoch 99/100\n",
      "9/9 [==============================] - 1s 170ms/step - loss: 0.0019 - val_loss: 1.7017e-04\n",
      "Epoch 100/100\n",
      "9/9 [==============================] - 1s 149ms/step - loss: 0.0015 - val_loss: 2.9068e-04\n"
     ]
    },
    {
     "data": {
      "text/plain": [
       "<keras.src.callbacks.History at 0x1b27ad97e90>"
      ]
     },
     "execution_count": 26,
     "metadata": {},
     "output_type": "execute_result"
    }
   ],
   "source": [
    "model.fit(X_train,y_train,validation_data=(X_test,y_test),epochs=100,batch_size=64,verbose =1 )"
   ]
  },
  {
   "cell_type": "code",
   "execution_count": 27,
   "metadata": {},
   "outputs": [
    {
     "name": "stdout",
     "output_type": "stream",
     "text": [
      "18/18 [==============================] - 2s 26ms/step\n",
      "8/8 [==============================] - 0s 27ms/step\n"
     ]
    }
   ],
   "source": [
    "#lets do the prediction and check performance metrices\n",
    "train_predict = model.predict(X_train)\n",
    "test_predict = model.predict(X_test)"
   ]
  },
  {
   "cell_type": "code",
   "execution_count": 28,
   "metadata": {},
   "outputs": [],
   "source": [
    "train_predict = scaler.inverse_transform(train_predict)\n",
    "test_predict = scaler.inverse_transform(test_predict)"
   ]
  },
  {
   "cell_type": "code",
   "execution_count": 30,
   "metadata": {},
   "outputs": [
    {
     "data": {
      "text/plain": [
       "190.15265575476081"
      ]
     },
     "execution_count": 30,
     "metadata": {},
     "output_type": "execute_result"
    }
   ],
   "source": [
    "import math \n",
    "from sklearn.metrics import mean_squared_error\n",
    "math.sqrt(mean_squared_error(y_train, train_predict))"
   ]
  },
  {
   "cell_type": "code",
   "execution_count": 31,
   "metadata": {},
   "outputs": [
    {
     "data": {
      "text/plain": [
       "167.66856898333478"
      ]
     },
     "execution_count": 31,
     "metadata": {},
     "output_type": "execute_result"
    }
   ],
   "source": [
    "math.sqrt(mean_squared_error(y_test,test_predict))"
   ]
  },
  {
   "cell_type": "code",
   "execution_count": 32,
   "metadata": {},
   "outputs": [
    {
     "data": {
      "image/png": "[encoded data removed]",
      "text/plain": [
       "<Figure size 640x480 with 1 Axes>"
      ]
     },
     "metadata": {},
     "output_type": "display_data"
    }
   ],
   "source": [
    "look_back = 100\n",
    "trainPredictPlot = np.empty_like(df1)\n",
    "trainPredictPlot[:,:] = np.nan\n",
    "trainPredictPlot[look_back:len(train_predict)+look_back,:] = train_predict\n",
    "\n",
    "testPredictPlot = np.empty_like(df1)\n",
    "testPredictPlot[:,:]= np.nan\n",
    "testPredictPlot[len(train_predict)+(look_back*2)+1:len(df1)-1, :] = test_predict\n",
    "\n",
    "plt.plot(scaler.inverse_transform(df1))\n",
    "plt.plot(trainPredictPlot)\n",
    "plt.plot(testPredictPlot)\n",
    "plt.show()\n"
   ]
  },
  {
   "cell_type": "markdown",
   "metadata": {},
   "source": [
    "Now we have to predict the next upcoming days data "
   ]
  },
  {
   "cell_type": "code",
   "execution_count": 33,
   "metadata": {},
   "outputs": [
    {
     "data": {
      "text/plain": [
       "353"
      ]
     },
     "execution_count": 33,
     "metadata": {},
     "output_type": "execute_result"
    }
   ],
   "source": [
    "len(test_data) "
   ]
  },
  {
   "cell_type": "markdown",
   "metadata": {},
   "source": [
    "hereyou can see total data is 353 and we will take last 100 days to predict the next upcoming day"
   ]
  },
  {
   "cell_type": "code",
   "execution_count": 34,
   "metadata": {},
   "outputs": [
    {
     "data": {
      "text/plain": [
       "(1, 100)"
      ]
     },
     "execution_count": 34,
     "metadata": {},
     "output_type": "execute_result"
    }
   ],
   "source": [
    "x_input = test_data[253:].reshape(1,-1)\n",
    "x_input.shape"
   ]
  },
  {
   "cell_type": "code",
   "execution_count": 35,
   "metadata": {},
   "outputs": [],
   "source": [
    "temp_input = list(x_input)\n",
    "temp_input = temp_input[0].tolist()\n"
   ]
  },
  {
   "cell_type": "code",
   "execution_count": null,
   "metadata": {},
   "outputs": [],
   "source": [
    "temp_input"
   ]
  },
  {
   "cell_type": "code",
   "execution_count": 38,
   "metadata": {},
   "outputs": [
    {
     "name": "stdout",
     "output_type": "stream",
     "text": [
      "[0.20940927]\n",
      "101\n",
      "1 day input [0.17815905 0.1777082  0.18189105 0.17685661 0.17465247 0.1682154\n",
      " 0.16944271 0.17282405 0.17630557 0.18604884 0.17417658 0.17976205\n",
      " 0.18371947 0.19356293 0.20240451 0.20295554 0.20693801 0.20753914\n",
      " 0.19053225 0.17713212 0.17868503 0.18164058 0.17397621 0.16874139\n",
      " 0.17257358 0.17074515 0.17815905 0.18091421 0.1719474  0.16804008\n",
      " 0.17019411 0.17342517 0.16310582 0.15927364 0.15992486 0.1612273\n",
      " 0.16758923 0.16420789 0.16736381 0.17049468 0.17695679 0.18071384\n",
      " 0.17921102 0.18274264 0.18502192 0.18036318 0.18003757 0.1761052\n",
      " 0.17282405 0.17187226 0.16541014 0.16571071 0.16681277 0.16095178\n",
      " 0.15040701 0.15373826 0.15892298 0.16012523 0.16814026 0.17715717\n",
      " 0.17485285 0.18131497 0.18780213 0.19048215 0.1892799  0.19927364\n",
      " 0.19526612 0.20187852 0.2033062  0.20756418 0.20751409 0.21192235\n",
      " 0.20989355 0.2115717  0.2082154  0.20776456 0.20929242 0.20671259\n",
      " 0.20816531 0.21139637 0.20686287 0.21685661 0.21410144 0.2189856\n",
      " 0.22259236 0.21625548 0.22008766 0.22822793 0.22860363 0.2272511\n",
      " 0.22304321 0.22567314 0.22038823 0.22001252 0.21730745 0.21592987\n",
      " 0.21618034 0.21725736 0.21462743 0.20940927]\n",
      "1 day input [[0.20810212]]\n",
      "2 day input [0.1777082  0.18189105 0.17685661 0.17465247 0.1682154  0.16944271\n",
      " 0.17282405 0.17630557 0.18604884 0.17417658 0.17976205 0.18371947\n",
      " 0.19356293 0.20240451 0.20295554 0.20693801 0.20753914 0.19053225\n",
      " 0.17713212 0.17868503 0.18164058 0.17397621 0.16874139 0.17257358\n",
      " 0.17074515 0.17815905 0.18091421 0.1719474  0.16804008 0.17019411\n",
      " 0.17342517 0.16310582 0.15927364 0.15992486 0.1612273  0.16758923\n",
      " 0.16420789 0.16736381 0.17049468 0.17695679 0.18071384 0.17921102\n",
      " 0.18274264 0.18502192 0.18036318 0.18003757 0.1761052  0.17282405\n",
      " 0.17187226 0.16541014 0.16571071 0.16681277 0.16095178 0.15040701\n",
      " 0.15373826 0.15892298 0.16012523 0.16814026 0.17715717 0.17485285\n",
      " 0.18131497 0.18780213 0.19048215 0.1892799  0.19927364 0.19526612\n",
      " 0.20187852 0.2033062  0.20756418 0.20751409 0.21192235 0.20989355\n",
      " 0.2115717  0.2082154  0.20776456 0.20929242 0.20671259 0.20816531\n",
      " 0.21139637 0.20686287 0.21685661 0.21410144 0.2189856  0.22259236\n",
      " 0.21625548 0.22008766 0.22822793 0.22860363 0.2272511  0.22304321\n",
      " 0.22567314 0.22038823 0.22001252 0.21730745 0.21592987 0.21618034\n",
      " 0.21725736 0.21462743 0.20940927 0.20810212]\n",
      "2 day input [[0.20654069]]\n",
      "3 day input [0.18189105 0.17685661 0.17465247 0.1682154  0.16944271 0.17282405\n",
      " 0.17630557 0.18604884 0.17417658 0.17976205 0.18371947 0.19356293\n",
      " 0.20240451 0.20295554 0.20693801 0.20753914 0.19053225 0.17713212\n",
      " 0.17868503 0.18164058 0.17397621 0.16874139 0.17257358 0.17074515\n",
      " 0.17815905 0.18091421 0.1719474  0.16804008 0.17019411 0.17342517\n",
      " 0.16310582 0.15927364 0.15992486 0.1612273  0.16758923 0.16420789\n",
      " 0.16736381 0.17049468 0.17695679 0.18071384 0.17921102 0.18274264\n",
      " 0.18502192 0.18036318 0.18003757 0.1761052  0.17282405 0.17187226\n",
      " 0.16541014 0.16571071 0.16681277 0.16095178 0.15040701 0.15373826\n",
      " 0.15892298 0.16012523 0.16814026 0.17715717 0.17485285 0.18131497\n",
      " 0.18780213 0.19048215 0.1892799  0.19927364 0.19526612 0.20187852\n",
      " 0.2033062  0.20756418 0.20751409 0.21192235 0.20989355 0.2115717\n",
      " 0.2082154  0.20776456 0.20929242 0.20671259 0.20816531 0.21139637\n",
      " 0.20686287 0.21685661 0.21410144 0.2189856  0.22259236 0.21625548\n",
      " 0.22008766 0.22822793 0.22860363 0.2272511  0.22304321 0.22567314\n",
      " 0.22038823 0.22001252 0.21730745 0.21592987 0.21618034 0.21725736\n",
      " 0.21462743 0.20940927 0.20810212 0.20654069]\n",
      "3 day input [[0.20478866]]\n",
      "4 day input [0.17685661 0.17465247 0.1682154  0.16944271 0.17282405 0.17630557\n",
      " 0.18604884 0.17417658 0.17976205 0.18371947 0.19356293 0.20240451\n",
      " 0.20295554 0.20693801 0.20753914 0.19053225 0.17713212 0.17868503\n",
      " 0.18164058 0.17397621 0.16874139 0.17257358 0.17074515 0.17815905\n",
      " 0.18091421 0.1719474  0.16804008 0.17019411 0.17342517 0.16310582\n",
      " 0.15927364 0.15992486 0.1612273  0.16758923 0.16420789 0.16736381\n",
      " 0.17049468 0.17695679 0.18071384 0.17921102 0.18274264 0.18502192\n",
      " 0.18036318 0.18003757 0.1761052  0.17282405 0.17187226 0.16541014\n",
      " 0.16571071 0.16681277 0.16095178 0.15040701 0.15373826 0.15892298\n",
      " 0.16012523 0.16814026 0.17715717 0.17485285 0.18131497 0.18780213\n",
      " 0.19048215 0.1892799  0.19927364 0.19526612 0.20187852 0.2033062\n",
      " 0.20756418 0.20751409 0.21192235 0.20989355 0.2115717  0.2082154\n",
      " 0.20776456 0.20929242 0.20671259 0.20816531 0.21139637 0.20686287\n",
      " 0.21685661 0.21410144 0.2189856  0.22259236 0.21625548 0.22008766\n",
      " 0.22822793 0.22860363 0.2272511  0.22304321 0.22567314 0.22038823\n",
      " 0.22001252 0.21730745 0.21592987 0.21618034 0.21725736 0.21462743\n",
      " 0.20940927 0.20810212 0.20654069 0.20478866]\n",
      "4 day input [[0.20290802]]\n",
      "5 day input [0.17465247 0.1682154  0.16944271 0.17282405 0.17630557 0.18604884\n",
      " 0.17417658 0.17976205 0.18371947 0.19356293 0.20240451 0.20295554\n",
      " 0.20693801 0.20753914 0.19053225 0.17713212 0.17868503 0.18164058\n",
      " 0.17397621 0.16874139 0.17257358 0.17074515 0.17815905 0.18091421\n",
      " 0.1719474  0.16804008 0.17019411 0.17342517 0.16310582 0.15927364\n",
      " 0.15992486 0.1612273  0.16758923 0.16420789 0.16736381 0.17049468\n",
      " 0.17695679 0.18071384 0.17921102 0.18274264 0.18502192 0.18036318\n",
      " 0.18003757 0.1761052  0.17282405 0.17187226 0.16541014 0.16571071\n",
      " 0.16681277 0.16095178 0.15040701 0.15373826 0.15892298 0.16012523\n",
      " 0.16814026 0.17715717 0.17485285 0.18131497 0.18780213 0.19048215\n",
      " 0.1892799  0.19927364 0.19526612 0.20187852 0.2033062  0.20756418\n",
      " 0.20751409 0.21192235 0.20989355 0.2115717  0.2082154  0.20776456\n",
      " 0.20929242 0.20671259 0.20816531 0.21139637 0.20686287 0.21685661\n",
      " 0.21410144 0.2189856  0.22259236 0.21625548 0.22008766 0.22822793\n",
      " 0.22860363 0.2272511  0.22304321 0.22567314 0.22038823 0.22001252\n",
      " 0.21730745 0.21592987 0.21618034 0.21725736 0.21462743 0.20940927\n",
      " 0.20810212 0.20654069 0.20478866 0.20290802]\n",
      "5 day input [[0.20094664]]\n",
      "6 day input [0.1682154  0.16944271 0.17282405 0.17630557 0.18604884 0.17417658\n",
      " 0.17976205 0.18371947 0.19356293 0.20240451 0.20295554 0.20693801\n",
      " 0.20753914 0.19053225 0.17713212 0.17868503 0.18164058 0.17397621\n",
      " 0.16874139 0.17257358 0.17074515 0.17815905 0.18091421 0.1719474\n",
      " 0.16804008 0.17019411 0.17342517 0.16310582 0.15927364 0.15992486\n",
      " 0.1612273  0.16758923 0.16420789 0.16736381 0.17049468 0.17695679\n",
      " 0.18071384 0.17921102 0.18274264 0.18502192 0.18036318 0.18003757\n",
      " 0.1761052  0.17282405 0.17187226 0.16541014 0.16571071 0.16681277\n",
      " 0.16095178 0.15040701 0.15373826 0.15892298 0.16012523 0.16814026\n",
      " 0.17715717 0.17485285 0.18131497 0.18780213 0.19048215 0.1892799\n",
      " 0.19927364 0.19526612 0.20187852 0.2033062  0.20756418 0.20751409\n",
      " 0.21192235 0.20989355 0.2115717  0.2082154  0.20776456 0.20929242\n",
      " 0.20671259 0.20816531 0.21139637 0.20686287 0.21685661 0.21410144\n",
      " 0.2189856  0.22259236 0.21625548 0.22008766 0.22822793 0.22860363\n",
      " 0.2272511  0.22304321 0.22567314 0.22038823 0.22001252 0.21730745\n",
      " 0.21592987 0.21618034 0.21725736 0.21462743 0.20940927 0.20810212\n",
      " 0.20654069 0.20478866 0.20290802 0.20094664]\n",
      "6 day input [[0.19893771]]\n",
      "7 day input [0.16944271 0.17282405 0.17630557 0.18604884 0.17417658 0.17976205\n",
      " 0.18371947 0.19356293 0.20240451 0.20295554 0.20693801 0.20753914\n",
      " 0.19053225 0.17713212 0.17868503 0.18164058 0.17397621 0.16874139\n",
      " 0.17257358 0.17074515 0.17815905 0.18091421 0.1719474  0.16804008\n",
      " 0.17019411 0.17342517 0.16310582 0.15927364 0.15992486 0.1612273\n",
      " 0.16758923 0.16420789 0.16736381 0.17049468 0.17695679 0.18071384\n",
      " 0.17921102 0.18274264 0.18502192 0.18036318 0.18003757 0.1761052\n",
      " 0.17282405 0.17187226 0.16541014 0.16571071 0.16681277 0.16095178\n",
      " 0.15040701 0.15373826 0.15892298 0.16012523 0.16814026 0.17715717\n",
      " 0.17485285 0.18131497 0.18780213 0.19048215 0.1892799  0.19927364\n",
      " 0.19526612 0.20187852 0.2033062  0.20756418 0.20751409 0.21192235\n",
      " 0.20989355 0.2115717  0.2082154  0.20776456 0.20929242 0.20671259\n",
      " 0.20816531 0.21139637 0.20686287 0.21685661 0.21410144 0.2189856\n",
      " 0.22259236 0.21625548 0.22008766 0.22822793 0.22860363 0.2272511\n",
      " 0.22304321 0.22567314 0.22038823 0.22001252 0.21730745 0.21592987\n",
      " 0.21618034 0.21725736 0.21462743 0.20940927 0.20810212 0.20654069\n",
      " 0.20478866 0.20290802 0.20094664 0.19893771]\n",
      "7 day input [[0.19690314]]\n",
      "8 day input [0.17282405 0.17630557 0.18604884 0.17417658 0.17976205 0.18371947\n",
      " 0.19356293 0.20240451 0.20295554 0.20693801 0.20753914 0.19053225\n",
      " 0.17713212 0.17868503 0.18164058 0.17397621 0.16874139 0.17257358\n",
      " 0.17074515 0.17815905 0.18091421 0.1719474  0.16804008 0.17019411\n",
      " 0.17342517 0.16310582 0.15927364 0.15992486 0.1612273  0.16758923\n",
      " 0.16420789 0.16736381 0.17049468 0.17695679 0.18071384 0.17921102\n",
      " 0.18274264 0.18502192 0.18036318 0.18003757 0.1761052  0.17282405\n",
      " 0.17187226 0.16541014 0.16571071 0.16681277 0.16095178 0.15040701\n",
      " 0.15373826 0.15892298 0.16012523 0.16814026 0.17715717 0.17485285\n",
      " 0.18131497 0.18780213 0.19048215 0.1892799  0.19927364 0.19526612\n",
      " 0.20187852 0.2033062  0.20756418 0.20751409 0.21192235 0.20989355\n",
      " 0.2115717  0.2082154  0.20776456 0.20929242 0.20671259 0.20816531\n",
      " 0.21139637 0.20686287 0.21685661 0.21410144 0.2189856  0.22259236\n",
      " 0.21625548 0.22008766 0.22822793 0.22860363 0.2272511  0.22304321\n",
      " 0.22567314 0.22038823 0.22001252 0.21730745 0.21592987 0.21618034\n",
      " 0.21725736 0.21462743 0.20940927 0.20810212 0.20654069 0.20478866\n",
      " 0.20290802 0.20094664 0.19893771 0.19690314]\n",
      "8 day input [[0.19485731]]\n",
      "9 day input [0.17630557 0.18604884 0.17417658 0.17976205 0.18371947 0.19356293\n",
      " 0.20240451 0.20295554 0.20693801 0.20753914 0.19053225 0.17713212\n",
      " 0.17868503 0.18164058 0.17397621 0.16874139 0.17257358 0.17074515\n",
      " 0.17815905 0.18091421 0.1719474  0.16804008 0.17019411 0.17342517\n",
      " 0.16310582 0.15927364 0.15992486 0.1612273  0.16758923 0.16420789\n",
      " 0.16736381 0.17049468 0.17695679 0.18071384 0.17921102 0.18274264\n",
      " 0.18502192 0.18036318 0.18003757 0.1761052  0.17282405 0.17187226\n",
      " 0.16541014 0.16571071 0.16681277 0.16095178 0.15040701 0.15373826\n",
      " 0.15892298 0.16012523 0.16814026 0.17715717 0.17485285 0.18131497\n",
      " 0.18780213 0.19048215 0.1892799  0.19927364 0.19526612 0.20187852\n",
      " 0.2033062  0.20756418 0.20751409 0.21192235 0.20989355 0.2115717\n",
      " 0.2082154  0.20776456 0.20929242 0.20671259 0.20816531 0.21139637\n",
      " 0.20686287 0.21685661 0.21410144 0.2189856  0.22259236 0.21625548\n",
      " 0.22008766 0.22822793 0.22860363 0.2272511  0.22304321 0.22567314\n",
      " 0.22038823 0.22001252 0.21730745 0.21592987 0.21618034 0.21725736\n",
      " 0.21462743 0.20940927 0.20810212 0.20654069 0.20478866 0.20290802\n",
      " 0.20094664 0.19893771 0.19690314 0.19485731]\n",
      "9 day input [[0.19280946]]\n",
      "10 day input [0.18604884 0.17417658 0.17976205 0.18371947 0.19356293 0.20240451\n",
      " 0.20295554 0.20693801 0.20753914 0.19053225 0.17713212 0.17868503\n",
      " 0.18164058 0.17397621 0.16874139 0.17257358 0.17074515 0.17815905\n",
      " 0.18091421 0.1719474  0.16804008 0.17019411 0.17342517 0.16310582\n",
      " 0.15927364 0.15992486 0.1612273  0.16758923 0.16420789 0.16736381\n",
      " 0.17049468 0.17695679 0.18071384 0.17921102 0.18274264 0.18502192\n",
      " 0.18036318 0.18003757 0.1761052  0.17282405 0.17187226 0.16541014\n",
      " 0.16571071 0.16681277 0.16095178 0.15040701 0.15373826 0.15892298\n",
      " 0.16012523 0.16814026 0.17715717 0.17485285 0.18131497 0.18780213\n",
      " 0.19048215 0.1892799  0.19927364 0.19526612 0.20187852 0.2033062\n",
      " 0.20756418 0.20751409 0.21192235 0.20989355 0.2115717  0.2082154\n",
      " 0.20776456 0.20929242 0.20671259 0.20816531 0.21139637 0.20686287\n",
      " 0.21685661 0.21410144 0.2189856  0.22259236 0.21625548 0.22008766\n",
      " 0.22822793 0.22860363 0.2272511  0.22304321 0.22567314 0.22038823\n",
      " 0.22001252 0.21730745 0.21592987 0.21618034 0.21725736 0.21462743\n",
      " 0.20940927 0.20810212 0.20654069 0.20478866 0.20290802 0.20094664\n",
      " 0.19893771 0.19690314 0.19485731 0.19280946]\n",
      "10 day input [[0.19076553]]\n",
      "11 day input [0.17417658 0.17976205 0.18371947 0.19356293 0.20240451 0.20295554\n",
      " 0.20693801 0.20753914 0.19053225 0.17713212 0.17868503 0.18164058\n",
      " 0.17397621 0.16874139 0.17257358 0.17074515 0.17815905 0.18091421\n",
      " 0.1719474  0.16804008 0.17019411 0.17342517 0.16310582 0.15927364\n",
      " 0.15992486 0.1612273  0.16758923 0.16420789 0.16736381 0.17049468\n",
      " 0.17695679 0.18071384 0.17921102 0.18274264 0.18502192 0.18036318\n",
      " 0.18003757 0.1761052  0.17282405 0.17187226 0.16541014 0.16571071\n",
      " 0.16681277 0.16095178 0.15040701 0.15373826 0.15892298 0.16012523\n",
      " 0.16814026 0.17715717 0.17485285 0.18131497 0.18780213 0.19048215\n",
      " 0.1892799  0.19927364 0.19526612 0.20187852 0.2033062  0.20756418\n",
      " 0.20751409 0.21192235 0.20989355 0.2115717  0.2082154  0.20776456\n",
      " 0.20929242 0.20671259 0.20816531 0.21139637 0.20686287 0.21685661\n",
      " 0.21410144 0.2189856  0.22259236 0.21625548 0.22008766 0.22822793\n",
      " 0.22860363 0.2272511  0.22304321 0.22567314 0.22038823 0.22001252\n",
      " 0.21730745 0.21592987 0.21618034 0.21725736 0.21462743 0.20940927\n",
      " 0.20810212 0.20654069 0.20478866 0.20290802 0.20094664 0.19893771\n",
      " 0.19690314 0.19485731 0.19280946 0.19076553]\n",
      "11 day input [[0.18872951]]\n",
      "12 day input [0.17976205 0.18371947 0.19356293 0.20240451 0.20295554 0.20693801\n",
      " 0.20753914 0.19053225 0.17713212 0.17868503 0.18164058 0.17397621\n",
      " 0.16874139 0.17257358 0.17074515 0.17815905 0.18091421 0.1719474\n",
      " 0.16804008 0.17019411 0.17342517 0.16310582 0.15927364 0.15992486\n",
      " 0.1612273  0.16758923 0.16420789 0.16736381 0.17049468 0.17695679\n",
      " 0.18071384 0.17921102 0.18274264 0.18502192 0.18036318 0.18003757\n",
      " 0.1761052  0.17282405 0.17187226 0.16541014 0.16571071 0.16681277\n",
      " 0.16095178 0.15040701 0.15373826 0.15892298 0.16012523 0.16814026\n",
      " 0.17715717 0.17485285 0.18131497 0.18780213 0.19048215 0.1892799\n",
      " 0.19927364 0.19526612 0.20187852 0.2033062  0.20756418 0.20751409\n",
      " 0.21192235 0.20989355 0.2115717  0.2082154  0.20776456 0.20929242\n",
      " 0.20671259 0.20816531 0.21139637 0.20686287 0.21685661 0.21410144\n",
      " 0.2189856  0.22259236 0.21625548 0.22008766 0.22822793 0.22860363\n",
      " 0.2272511  0.22304321 0.22567314 0.22038823 0.22001252 0.21730745\n",
      " 0.21592987 0.21618034 0.21725736 0.21462743 0.20940927 0.20810212\n",
      " 0.20654069 0.20478866 0.20290802 0.20094664 0.19893771 0.19690314\n",
      " 0.19485731 0.19280946 0.19076553 0.18872951]\n",
      "12 day input [[0.18670371]]\n",
      "13 day input [0.18371947 0.19356293 0.20240451 0.20295554 0.20693801 0.20753914\n",
      " 0.19053225 0.17713212 0.17868503 0.18164058 0.17397621 0.16874139\n",
      " 0.17257358 0.17074515 0.17815905 0.18091421 0.1719474  0.16804008\n",
      " 0.17019411 0.17342517 0.16310582 0.15927364 0.15992486 0.1612273\n",
      " 0.16758923 0.16420789 0.16736381 0.17049468 0.17695679 0.18071384\n",
      " 0.17921102 0.18274264 0.18502192 0.18036318 0.18003757 0.1761052\n",
      " 0.17282405 0.17187226 0.16541014 0.16571071 0.16681277 0.16095178\n",
      " 0.15040701 0.15373826 0.15892298 0.16012523 0.16814026 0.17715717\n",
      " 0.17485285 0.18131497 0.18780213 0.19048215 0.1892799  0.19927364\n",
      " 0.19526612 0.20187852 0.2033062  0.20756418 0.20751409 0.21192235\n",
      " 0.20989355 0.2115717  0.2082154  0.20776456 0.20929242 0.20671259\n",
      " 0.20816531 0.21139637 0.20686287 0.21685661 0.21410144 0.2189856\n",
      " 0.22259236 0.21625548 0.22008766 0.22822793 0.22860363 0.2272511\n",
      " 0.22304321 0.22567314 0.22038823 0.22001252 0.21730745 0.21592987\n",
      " 0.21618034 0.21725736 0.21462743 0.20940927 0.20810212 0.20654069\n",
      " 0.20478866 0.20290802 0.20094664 0.19893771 0.19690314 0.19485731\n",
      " 0.19280946 0.19076553 0.18872951 0.18670371]\n",
      "13 day input [[0.1846897]]\n",
      "14 day input [0.19356293 0.20240451 0.20295554 0.20693801 0.20753914 0.19053225\n",
      " 0.17713212 0.17868503 0.18164058 0.17397621 0.16874139 0.17257358\n",
      " 0.17074515 0.17815905 0.18091421 0.1719474  0.16804008 0.17019411\n",
      " 0.17342517 0.16310582 0.15927364 0.15992486 0.1612273  0.16758923\n",
      " 0.16420789 0.16736381 0.17049468 0.17695679 0.18071384 0.17921102\n",
      " 0.18274264 0.18502192 0.18036318 0.18003757 0.1761052  0.17282405\n",
      " 0.17187226 0.16541014 0.16571071 0.16681277 0.16095178 0.15040701\n",
      " 0.15373826 0.15892298 0.16012523 0.16814026 0.17715717 0.17485285\n",
      " 0.18131497 0.18780213 0.19048215 0.1892799  0.19927364 0.19526612\n",
      " 0.20187852 0.2033062  0.20756418 0.20751409 0.21192235 0.20989355\n",
      " 0.2115717  0.2082154  0.20776456 0.20929242 0.20671259 0.20816531\n",
      " 0.21139637 0.20686287 0.21685661 0.21410144 0.2189856  0.22259236\n",
      " 0.21625548 0.22008766 0.22822793 0.22860363 0.2272511  0.22304321\n",
      " 0.22567314 0.22038823 0.22001252 0.21730745 0.21592987 0.21618034\n",
      " 0.21725736 0.21462743 0.20940927 0.20810212 0.20654069 0.20478866\n",
      " 0.20290802 0.20094664 0.19893771 0.19690314 0.19485731 0.19280946\n",
      " 0.19076553 0.18872951 0.18670371 0.1846897 ]\n",
      "14 day input [[0.182688]]\n",
      "15 day input [0.20240451 0.20295554 0.20693801 0.20753914 0.19053225 0.17713212\n",
      " 0.17868503 0.18164058 0.17397621 0.16874139 0.17257358 0.17074515\n",
      " 0.17815905 0.18091421 0.1719474  0.16804008 0.17019411 0.17342517\n",
      " 0.16310582 0.15927364 0.15992486 0.1612273  0.16758923 0.16420789\n",
      " 0.16736381 0.17049468 0.17695679 0.18071384 0.17921102 0.18274264\n",
      " 0.18502192 0.18036318 0.18003757 0.1761052  0.17282405 0.17187226\n",
      " 0.16541014 0.16571071 0.16681277 0.16095178 0.15040701 0.15373826\n",
      " 0.15892298 0.16012523 0.16814026 0.17715717 0.17485285 0.18131497\n",
      " 0.18780213 0.19048215 0.1892799  0.19927364 0.19526612 0.20187852\n",
      " 0.2033062  0.20756418 0.20751409 0.21192235 0.20989355 0.2115717\n",
      " 0.2082154  0.20776456 0.20929242 0.20671259 0.20816531 0.21139637\n",
      " 0.20686287 0.21685661 0.21410144 0.2189856  0.22259236 0.21625548\n",
      " 0.22008766 0.22822793 0.22860363 0.2272511  0.22304321 0.22567314\n",
      " 0.22038823 0.22001252 0.21730745 0.21592987 0.21618034 0.21725736\n",
      " 0.21462743 0.20940927 0.20810212 0.20654069 0.20478866 0.20290802\n",
      " 0.20094664 0.19893771 0.19690314 0.19485731 0.19280946 0.19076553\n",
      " 0.18872951 0.18670371 0.1846897  0.182688  ]\n",
      "15 day input [[0.18069896]]\n",
      "16 day input [0.20295554 0.20693801 0.20753914 0.19053225 0.17713212 0.17868503\n",
      " 0.18164058 0.17397621 0.16874139 0.17257358 0.17074515 0.17815905\n",
      " 0.18091421 0.1719474  0.16804008 0.17019411 0.17342517 0.16310582\n",
      " 0.15927364 0.15992486 0.1612273  0.16758923 0.16420789 0.16736381\n",
      " 0.17049468 0.17695679 0.18071384 0.17921102 0.18274264 0.18502192\n",
      " 0.18036318 0.18003757 0.1761052  0.17282405 0.17187226 0.16541014\n",
      " 0.16571071 0.16681277 0.16095178 0.15040701 0.15373826 0.15892298\n",
      " 0.16012523 0.16814026 0.17715717 0.17485285 0.18131497 0.18780213\n",
      " 0.19048215 0.1892799  0.19927364 0.19526612 0.20187852 0.2033062\n",
      " 0.20756418 0.20751409 0.21192235 0.20989355 0.2115717  0.2082154\n",
      " 0.20776456 0.20929242 0.20671259 0.20816531 0.21139637 0.20686287\n",
      " 0.21685661 0.21410144 0.2189856  0.22259236 0.21625548 0.22008766\n",
      " 0.22822793 0.22860363 0.2272511  0.22304321 0.22567314 0.22038823\n",
      " 0.22001252 0.21730745 0.21592987 0.21618034 0.21725736 0.21462743\n",
      " 0.20940927 0.20810212 0.20654069 0.20478866 0.20290802 0.20094664\n",
      " 0.19893771 0.19690314 0.19485731 0.19280946 0.19076553 0.18872951\n",
      " 0.18670371 0.1846897  0.182688   0.18069896]\n",
      "16 day input [[0.17872249]]\n",
      "17 day input [0.20693801 0.20753914 0.19053225 0.17713212 0.17868503 0.18164058\n",
      " 0.17397621 0.16874139 0.17257358 0.17074515 0.17815905 0.18091421\n",
      " 0.1719474  0.16804008 0.17019411 0.17342517 0.16310582 0.15927364\n",
      " 0.15992486 0.1612273  0.16758923 0.16420789 0.16736381 0.17049468\n",
      " 0.17695679 0.18071384 0.17921102 0.18274264 0.18502192 0.18036318\n",
      " 0.18003757 0.1761052  0.17282405 0.17187226 0.16541014 0.16571071\n",
      " 0.16681277 0.16095178 0.15040701 0.15373826 0.15892298 0.16012523\n",
      " 0.16814026 0.17715717 0.17485285 0.18131497 0.18780213 0.19048215\n",
      " 0.1892799  0.19927364 0.19526612 0.20187852 0.2033062  0.20756418\n",
      " 0.20751409 0.21192235 0.20989355 0.2115717  0.2082154  0.20776456\n",
      " 0.20929242 0.20671259 0.20816531 0.21139637 0.20686287 0.21685661\n",
      " 0.21410144 0.2189856  0.22259236 0.21625548 0.22008766 0.22822793\n",
      " 0.22860363 0.2272511  0.22304321 0.22567314 0.22038823 0.22001252\n",
      " 0.21730745 0.21592987 0.21618034 0.21725736 0.21462743 0.20940927\n",
      " 0.20810212 0.20654069 0.20478866 0.20290802 0.20094664 0.19893771\n",
      " 0.19690314 0.19485731 0.19280946 0.19076553 0.18872951 0.18670371\n",
      " 0.1846897  0.182688   0.18069896 0.17872249]\n",
      "17 day input [[0.17675816]]\n",
      "18 day input [0.20753914 0.19053225 0.17713212 0.17868503 0.18164058 0.17397621\n",
      " 0.16874139 0.17257358 0.17074515 0.17815905 0.18091421 0.1719474\n",
      " 0.16804008 0.17019411 0.17342517 0.16310582 0.15927364 0.15992486\n",
      " 0.1612273  0.16758923 0.16420789 0.16736381 0.17049468 0.17695679\n",
      " 0.18071384 0.17921102 0.18274264 0.18502192 0.18036318 0.18003757\n",
      " 0.1761052  0.17282405 0.17187226 0.16541014 0.16571071 0.16681277\n",
      " 0.16095178 0.15040701 0.15373826 0.15892298 0.16012523 0.16814026\n",
      " 0.17715717 0.17485285 0.18131497 0.18780213 0.19048215 0.1892799\n",
      " 0.19927364 0.19526612 0.20187852 0.2033062  0.20756418 0.20751409\n",
      " 0.21192235 0.20989355 0.2115717  0.2082154  0.20776456 0.20929242\n",
      " 0.20671259 0.20816531 0.21139637 0.20686287 0.21685661 0.21410144\n",
      " 0.2189856  0.22259236 0.21625548 0.22008766 0.22822793 0.22860363\n",
      " 0.2272511  0.22304321 0.22567314 0.22038823 0.22001252 0.21730745\n",
      " 0.21592987 0.21618034 0.21725736 0.21462743 0.20940927 0.20810212\n",
      " 0.20654069 0.20478866 0.20290802 0.20094664 0.19893771 0.19690314\n",
      " 0.19485731 0.19280946 0.19076553 0.18872951 0.18670371 0.1846897\n",
      " 0.182688   0.18069896 0.17872249 0.17675816]\n",
      "18 day input [[0.17480582]]\n",
      "19 day input [0.19053225 0.17713212 0.17868503 0.18164058 0.17397621 0.16874139\n",
      " 0.17257358 0.17074515 0.17815905 0.18091421 0.1719474  0.16804008\n",
      " 0.17019411 0.17342517 0.16310582 0.15927364 0.15992486 0.1612273\n",
      " 0.16758923 0.16420789 0.16736381 0.17049468 0.17695679 0.18071384\n",
      " 0.17921102 0.18274264 0.18502192 0.18036318 0.18003757 0.1761052\n",
      " 0.17282405 0.17187226 0.16541014 0.16571071 0.16681277 0.16095178\n",
      " 0.15040701 0.15373826 0.15892298 0.16012523 0.16814026 0.17715717\n",
      " 0.17485285 0.18131497 0.18780213 0.19048215 0.1892799  0.19927364\n",
      " 0.19526612 0.20187852 0.2033062  0.20756418 0.20751409 0.21192235\n",
      " 0.20989355 0.2115717  0.2082154  0.20776456 0.20929242 0.20671259\n",
      " 0.20816531 0.21139637 0.20686287 0.21685661 0.21410144 0.2189856\n",
      " 0.22259236 0.21625548 0.22008766 0.22822793 0.22860363 0.2272511\n",
      " 0.22304321 0.22567314 0.22038823 0.22001252 0.21730745 0.21592987\n",
      " 0.21618034 0.21725736 0.21462743 0.20940927 0.20810212 0.20654069\n",
      " 0.20478866 0.20290802 0.20094664 0.19893771 0.19690314 0.19485731\n",
      " 0.19280946 0.19076553 0.18872951 0.18670371 0.1846897  0.182688\n",
      " 0.18069896 0.17872249 0.17675816 0.17480582]\n",
      "19 day input [[0.17286511]]\n",
      "20 day input [0.17713212 0.17868503 0.18164058 0.17397621 0.16874139 0.17257358\n",
      " 0.17074515 0.17815905 0.18091421 0.1719474  0.16804008 0.17019411\n",
      " 0.17342517 0.16310582 0.15927364 0.15992486 0.1612273  0.16758923\n",
      " 0.16420789 0.16736381 0.17049468 0.17695679 0.18071384 0.17921102\n",
      " 0.18274264 0.18502192 0.18036318 0.18003757 0.1761052  0.17282405\n",
      " 0.17187226 0.16541014 0.16571071 0.16681277 0.16095178 0.15040701\n",
      " 0.15373826 0.15892298 0.16012523 0.16814026 0.17715717 0.17485285\n",
      " 0.18131497 0.18780213 0.19048215 0.1892799  0.19927364 0.19526612\n",
      " 0.20187852 0.2033062  0.20756418 0.20751409 0.21192235 0.20989355\n",
      " 0.2115717  0.2082154  0.20776456 0.20929242 0.20671259 0.20816531\n",
      " 0.21139637 0.20686287 0.21685661 0.21410144 0.2189856  0.22259236\n",
      " 0.21625548 0.22008766 0.22822793 0.22860363 0.2272511  0.22304321\n",
      " 0.22567314 0.22038823 0.22001252 0.21730745 0.21592987 0.21618034\n",
      " 0.21725736 0.21462743 0.20940927 0.20810212 0.20654069 0.20478866\n",
      " 0.20290802 0.20094664 0.19893771 0.19690314 0.19485731 0.19280946\n",
      " 0.19076553 0.18872951 0.18670371 0.1846897  0.182688   0.18069896\n",
      " 0.17872249 0.17675816 0.17480582 0.17286511]\n",
      "20 day input [[0.17093574]]\n",
      "21 day input [0.17868503 0.18164058 0.17397621 0.16874139 0.17257358 0.17074515\n",
      " 0.17815905 0.18091421 0.1719474  0.16804008 0.17019411 0.17342517\n",
      " 0.16310582 0.15927364 0.15992486 0.1612273  0.16758923 0.16420789\n",
      " 0.16736381 0.17049468 0.17695679 0.18071384 0.17921102 0.18274264\n",
      " 0.18502192 0.18036318 0.18003757 0.1761052  0.17282405 0.17187226\n",
      " 0.16541014 0.16571071 0.16681277 0.16095178 0.15040701 0.15373826\n",
      " 0.15892298 0.16012523 0.16814026 0.17715717 0.17485285 0.18131497\n",
      " 0.18780213 0.19048215 0.1892799  0.19927364 0.19526612 0.20187852\n",
      " 0.2033062  0.20756418 0.20751409 0.21192235 0.20989355 0.2115717\n",
      " 0.2082154  0.20776456 0.20929242 0.20671259 0.20816531 0.21139637\n",
      " 0.20686287 0.21685661 0.21410144 0.2189856  0.22259236 0.21625548\n",
      " 0.22008766 0.22822793 0.22860363 0.2272511  0.22304321 0.22567314\n",
      " 0.22038823 0.22001252 0.21730745 0.21592987 0.21618034 0.21725736\n",
      " 0.21462743 0.20940927 0.20810212 0.20654069 0.20478866 0.20290802\n",
      " 0.20094664 0.19893771 0.19690314 0.19485731 0.19280946 0.19076553\n",
      " 0.18872951 0.18670371 0.1846897  0.182688   0.18069896 0.17872249\n",
      " 0.17675816 0.17480582 0.17286511 0.17093574]\n",
      "21 day input [[0.1690176]]\n",
      "22 day input [0.18164058 0.17397621 0.16874139 0.17257358 0.17074515 0.17815905\n",
      " 0.18091421 0.1719474  0.16804008 0.17019411 0.17342517 0.16310582\n",
      " 0.15927364 0.15992486 0.1612273  0.16758923 0.16420789 0.16736381\n",
      " 0.17049468 0.17695679 0.18071384 0.17921102 0.18274264 0.18502192\n",
      " 0.18036318 0.18003757 0.1761052  0.17282405 0.17187226 0.16541014\n",
      " 0.16571071 0.16681277 0.16095178 0.15040701 0.15373826 0.15892298\n",
      " 0.16012523 0.16814026 0.17715717 0.17485285 0.18131497 0.18780213\n",
      " 0.19048215 0.1892799  0.19927364 0.19526612 0.20187852 0.2033062\n",
      " 0.20756418 0.20751409 0.21192235 0.20989355 0.2115717  0.2082154\n",
      " 0.20776456 0.20929242 0.20671259 0.20816531 0.21139637 0.20686287\n",
      " 0.21685661 0.21410144 0.2189856  0.22259236 0.21625548 0.22008766\n",
      " 0.22822793 0.22860363 0.2272511  0.22304321 0.22567314 0.22038823\n",
      " 0.22001252 0.21730745 0.21592987 0.21618034 0.21725736 0.21462743\n",
      " 0.20940927 0.20810212 0.20654069 0.20478866 0.20290802 0.20094664\n",
      " 0.19893771 0.19690314 0.19485731 0.19280946 0.19076553 0.18872951\n",
      " 0.18670371 0.1846897  0.182688   0.18069896 0.17872249 0.17675816\n",
      " 0.17480582 0.17286511 0.17093574 0.1690176 ]\n",
      "22 day input [[0.16711076]]\n",
      "23 day input [0.17397621 0.16874139 0.17257358 0.17074515 0.17815905 0.18091421\n",
      " 0.1719474  0.16804008 0.17019411 0.17342517 0.16310582 0.15927364\n",
      " 0.15992486 0.1612273  0.16758923 0.16420789 0.16736381 0.17049468\n",
      " 0.17695679 0.18071384 0.17921102 0.18274264 0.18502192 0.18036318\n",
      " 0.18003757 0.1761052  0.17282405 0.17187226 0.16541014 0.16571071\n",
      " 0.16681277 0.16095178 0.15040701 0.15373826 0.15892298 0.16012523\n",
      " 0.16814026 0.17715717 0.17485285 0.18131497 0.18780213 0.19048215\n",
      " 0.1892799  0.19927364 0.19526612 0.20187852 0.2033062  0.20756418\n",
      " 0.20751409 0.21192235 0.20989355 0.2115717  0.2082154  0.20776456\n",
      " 0.20929242 0.20671259 0.20816531 0.21139637 0.20686287 0.21685661\n",
      " 0.21410144 0.2189856  0.22259236 0.21625548 0.22008766 0.22822793\n",
      " 0.22860363 0.2272511  0.22304321 0.22567314 0.22038823 0.22001252\n",
      " 0.21730745 0.21592987 0.21618034 0.21725736 0.21462743 0.20940927\n",
      " 0.20810212 0.20654069 0.20478866 0.20290802 0.20094664 0.19893771\n",
      " 0.19690314 0.19485731 0.19280946 0.19076553 0.18872951 0.18670371\n",
      " 0.1846897  0.182688   0.18069896 0.17872249 0.17675816 0.17480582\n",
      " 0.17286511 0.17093574 0.1690176  0.16711076]\n",
      "23 day input [[0.16521534]]\n",
      "24 day input [0.16874139 0.17257358 0.17074515 0.17815905 0.18091421 0.1719474\n",
      " 0.16804008 0.17019411 0.17342517 0.16310582 0.15927364 0.15992486\n",
      " 0.1612273  0.16758923 0.16420789 0.16736381 0.17049468 0.17695679\n",
      " 0.18071384 0.17921102 0.18274264 0.18502192 0.18036318 0.18003757\n",
      " 0.1761052  0.17282405 0.17187226 0.16541014 0.16571071 0.16681277\n",
      " 0.16095178 0.15040701 0.15373826 0.15892298 0.16012523 0.16814026\n",
      " 0.17715717 0.17485285 0.18131497 0.18780213 0.19048215 0.1892799\n",
      " 0.19927364 0.19526612 0.20187852 0.2033062  0.20756418 0.20751409\n",
      " 0.21192235 0.20989355 0.2115717  0.2082154  0.20776456 0.20929242\n",
      " 0.20671259 0.20816531 0.21139637 0.20686287 0.21685661 0.21410144\n",
      " 0.2189856  0.22259236 0.21625548 0.22008766 0.22822793 0.22860363\n",
      " 0.2272511  0.22304321 0.22567314 0.22038823 0.22001252 0.21730745\n",
      " 0.21592987 0.21618034 0.21725736 0.21462743 0.20940927 0.20810212\n",
      " 0.20654069 0.20478866 0.20290802 0.20094664 0.19893771 0.19690314\n",
      " 0.19485731 0.19280946 0.19076553 0.18872951 0.18670371 0.1846897\n",
      " 0.182688   0.18069896 0.17872249 0.17675816 0.17480582 0.17286511\n",
      " 0.17093574 0.1690176  0.16711076 0.16521534]\n",
      "24 day input [[0.16333163]]\n",
      "25 day input [0.17257358 0.17074515 0.17815905 0.18091421 0.1719474  0.16804008\n",
      " 0.17019411 0.17342517 0.16310582 0.15927364 0.15992486 0.1612273\n",
      " 0.16758923 0.16420789 0.16736381 0.17049468 0.17695679 0.18071384\n",
      " 0.17921102 0.18274264 0.18502192 0.18036318 0.18003757 0.1761052\n",
      " 0.17282405 0.17187226 0.16541014 0.16571071 0.16681277 0.16095178\n",
      " 0.15040701 0.15373826 0.15892298 0.16012523 0.16814026 0.17715717\n",
      " 0.17485285 0.18131497 0.18780213 0.19048215 0.1892799  0.19927364\n",
      " 0.19526612 0.20187852 0.2033062  0.20756418 0.20751409 0.21192235\n",
      " 0.20989355 0.2115717  0.2082154  0.20776456 0.20929242 0.20671259\n",
      " 0.20816531 0.21139637 0.20686287 0.21685661 0.21410144 0.2189856\n",
      " 0.22259236 0.21625548 0.22008766 0.22822793 0.22860363 0.2272511\n",
      " 0.22304321 0.22567314 0.22038823 0.22001252 0.21730745 0.21592987\n",
      " 0.21618034 0.21725736 0.21462743 0.20940927 0.20810212 0.20654069\n",
      " 0.20478866 0.20290802 0.20094664 0.19893771 0.19690314 0.19485731\n",
      " 0.19280946 0.19076553 0.18872951 0.18670371 0.1846897  0.182688\n",
      " 0.18069896 0.17872249 0.17675816 0.17480582 0.17286511 0.17093574\n",
      " 0.1690176  0.16711076 0.16521534 0.16333163]\n",
      "25 day input [[0.16146003]]\n",
      "26 day input [0.17074515 0.17815905 0.18091421 0.1719474  0.16804008 0.17019411\n",
      " 0.17342517 0.16310582 0.15927364 0.15992486 0.1612273  0.16758923\n",
      " 0.16420789 0.16736381 0.17049468 0.17695679 0.18071384 0.17921102\n",
      " 0.18274264 0.18502192 0.18036318 0.18003757 0.1761052  0.17282405\n",
      " 0.17187226 0.16541014 0.16571071 0.16681277 0.16095178 0.15040701\n",
      " 0.15373826 0.15892298 0.16012523 0.16814026 0.17715717 0.17485285\n",
      " 0.18131497 0.18780213 0.19048215 0.1892799  0.19927364 0.19526612\n",
      " 0.20187852 0.2033062  0.20756418 0.20751409 0.21192235 0.20989355\n",
      " 0.2115717  0.2082154  0.20776456 0.20929242 0.20671259 0.20816531\n",
      " 0.21139637 0.20686287 0.21685661 0.21410144 0.2189856  0.22259236\n",
      " 0.21625548 0.22008766 0.22822793 0.22860363 0.2272511  0.22304321\n",
      " 0.22567314 0.22038823 0.22001252 0.21730745 0.21592987 0.21618034\n",
      " 0.21725736 0.21462743 0.20940927 0.20810212 0.20654069 0.20478866\n",
      " 0.20290802 0.20094664 0.19893771 0.19690314 0.19485731 0.19280946\n",
      " 0.19076553 0.18872951 0.18670371 0.1846897  0.182688   0.18069896\n",
      " 0.17872249 0.17675816 0.17480582 0.17286511 0.17093574 0.1690176\n",
      " 0.16711076 0.16521534 0.16333163 0.16146003]\n",
      "26 day input [[0.15960096]]\n",
      "27 day input [0.17815905 0.18091421 0.1719474  0.16804008 0.17019411 0.17342517\n",
      " 0.16310582 0.15927364 0.15992486 0.1612273  0.16758923 0.16420789\n",
      " 0.16736381 0.17049468 0.17695679 0.18071384 0.17921102 0.18274264\n",
      " 0.18502192 0.18036318 0.18003757 0.1761052  0.17282405 0.17187226\n",
      " 0.16541014 0.16571071 0.16681277 0.16095178 0.15040701 0.15373826\n",
      " 0.15892298 0.16012523 0.16814026 0.17715717 0.17485285 0.18131497\n",
      " 0.18780213 0.19048215 0.1892799  0.19927364 0.19526612 0.20187852\n",
      " 0.2033062  0.20756418 0.20751409 0.21192235 0.20989355 0.2115717\n",
      " 0.2082154  0.20776456 0.20929242 0.20671259 0.20816531 0.21139637\n",
      " 0.20686287 0.21685661 0.21410144 0.2189856  0.22259236 0.21625548\n",
      " 0.22008766 0.22822793 0.22860363 0.2272511  0.22304321 0.22567314\n",
      " 0.22038823 0.22001252 0.21730745 0.21592987 0.21618034 0.21725736\n",
      " 0.21462743 0.20940927 0.20810212 0.20654069 0.20478866 0.20290802\n",
      " 0.20094664 0.19893771 0.19690314 0.19485731 0.19280946 0.19076553\n",
      " 0.18872951 0.18670371 0.1846897  0.182688   0.18069896 0.17872249\n",
      " 0.17675816 0.17480582 0.17286511 0.17093574 0.1690176  0.16711076\n",
      " 0.16521534 0.16333163 0.16146003 0.15960096]\n",
      "27 day input [[0.1577551]]\n",
      "28 day input [0.18091421 0.1719474  0.16804008 0.17019411 0.17342517 0.16310582\n",
      " 0.15927364 0.15992486 0.1612273  0.16758923 0.16420789 0.16736381\n",
      " 0.17049468 0.17695679 0.18071384 0.17921102 0.18274264 0.18502192\n",
      " 0.18036318 0.18003757 0.1761052  0.17282405 0.17187226 0.16541014\n",
      " 0.16571071 0.16681277 0.16095178 0.15040701 0.15373826 0.15892298\n",
      " 0.16012523 0.16814026 0.17715717 0.17485285 0.18131497 0.18780213\n",
      " 0.19048215 0.1892799  0.19927364 0.19526612 0.20187852 0.2033062\n",
      " 0.20756418 0.20751409 0.21192235 0.20989355 0.2115717  0.2082154\n",
      " 0.20776456 0.20929242 0.20671259 0.20816531 0.21139637 0.20686287\n",
      " 0.21685661 0.21410144 0.2189856  0.22259236 0.21625548 0.22008766\n",
      " 0.22822793 0.22860363 0.2272511  0.22304321 0.22567314 0.22038823\n",
      " 0.22001252 0.21730745 0.21592987 0.21618034 0.21725736 0.21462743\n",
      " 0.20940927 0.20810212 0.20654069 0.20478866 0.20290802 0.20094664\n",
      " 0.19893771 0.19690314 0.19485731 0.19280946 0.19076553 0.18872951\n",
      " 0.18670371 0.1846897  0.182688   0.18069896 0.17872249 0.17675816\n",
      " 0.17480582 0.17286511 0.17093574 0.1690176  0.16711076 0.16521534\n",
      " 0.16333163 0.16146003 0.15960096 0.15775511]\n",
      "28 day input [[0.15592298]]\n",
      "29 day input [0.1719474  0.16804008 0.17019411 0.17342517 0.16310582 0.15927364\n",
      " 0.15992486 0.1612273  0.16758923 0.16420789 0.16736381 0.17049468\n",
      " 0.17695679 0.18071384 0.17921102 0.18274264 0.18502192 0.18036318\n",
      " 0.18003757 0.1761052  0.17282405 0.17187226 0.16541014 0.16571071\n",
      " 0.16681277 0.16095178 0.15040701 0.15373826 0.15892298 0.16012523\n",
      " 0.16814026 0.17715717 0.17485285 0.18131497 0.18780213 0.19048215\n",
      " 0.1892799  0.19927364 0.19526612 0.20187852 0.2033062  0.20756418\n",
      " 0.20751409 0.21192235 0.20989355 0.2115717  0.2082154  0.20776456\n",
      " 0.20929242 0.20671259 0.20816531 0.21139637 0.20686287 0.21685661\n",
      " 0.21410144 0.2189856  0.22259236 0.21625548 0.22008766 0.22822793\n",
      " 0.22860363 0.2272511  0.22304321 0.22567314 0.22038823 0.22001252\n",
      " 0.21730745 0.21592987 0.21618034 0.21725736 0.21462743 0.20940927\n",
      " 0.20810212 0.20654069 0.20478866 0.20290802 0.20094664 0.19893771\n",
      " 0.19690314 0.19485731 0.19280946 0.19076553 0.18872951 0.18670371\n",
      " 0.1846897  0.182688   0.18069896 0.17872249 0.17675816 0.17480582\n",
      " 0.17286511 0.17093574 0.1690176  0.16711076 0.16521534 0.16333163\n",
      " 0.16146003 0.15960096 0.15775511 0.15592298]\n",
      "29 day input [[0.15410526]]\n",
      "[[0.20940926671028137], [0.20810212194919586], [0.20654068887233734], [0.20478865504264832], [0.20290802419185638], [0.200946643948555], [0.19893771409988403], [0.19690313935279846], [0.19485731422901154], [0.19280946254730225], [0.19076552987098694], [0.18872950971126556], [0.18670371174812317], [0.1846897006034851], [0.18268799781799316], [0.180698961019516], [0.17872248589992523], [0.17675815522670746], [0.17480581998825073], [0.1728651076555252], [0.1709357351064682], [0.16901759803295135], [0.16711075603961945], [0.16521534323692322], [0.16333162784576416], [0.1614600270986557], [0.15960095822811127], [0.15775510668754578], [0.15592297911643982], [0.1541052609682083]]\n"
     ]
    }
   ],
   "source": [
    "from numpy import array\n",
    "\n",
    "lst_output=[]\n",
    "n_steps = 100\n",
    "i=0\n",
    "while (i<30):\n",
    "    if(len(temp_input)>100):\n",
    "        x_input = np.array(temp_input[1:])\n",
    "        print(\"{} day input {}\".format(i,x_input))\n",
    "        x_input = x_input.reshape(1,-1)\n",
    "        x_input = x_input.reshape((1, n_steps, 1))\n",
    "\n",
    "        yhat  = model.predict(x_input, verbose = 0)\n",
    "        print(\"{} day input {}\".format(i,yhat))\n",
    "        temp_input.extend(yhat[0].tolist())\n",
    "        temp_input = temp_input[1:]\n",
    "\n",
    "        lst_output.extend(yhat.tolist())\n",
    "        i=i+1\n",
    "\n",
    "    else:\n",
    "        x_input = x_input.reshape ((1,n_steps,1))\n",
    "        yhat = model.predict(x_input, verbose=0)\n",
    "        print(yhat[0])\n",
    "        temp_input.extend(yhat[0].tolist())\n",
    "        print(len(temp_input))\n",
    "        lst_output.extend(yhat.tolist())\n",
    "        i=i+1\n",
    "\n",
    "print(lst_output)"
   ]
  },
  {
   "cell_type": "code",
   "execution_count": 40,
   "metadata": {},
   "outputs": [],
   "source": [
    "day_new = np.arange(1,101)\n",
    "day_pred = np.arange(101,131)"
   ]
  },
  {
   "cell_type": "code",
   "execution_count": 42,
   "metadata": {},
   "outputs": [],
   "source": [
    "import matplotlib.pyplot as plt "
   ]
  },
  {
   "cell_type": "code",
   "execution_count": 41,
   "metadata": {},
   "outputs": [
    {
     "data": {
      "text/plain": [
       "1006"
      ]
     },
     "execution_count": 41,
     "metadata": {},
     "output_type": "execute_result"
    }
   ],
   "source": [
    "len(df1)"
   ]
  },
  {
   "cell_type": "code",
   "execution_count": 44,
   "metadata": {},
   "outputs": [
    {
     "data": {
      "text/plain": [
       "[<matplotlib.lines.Line2D at 0x1b202558750>]"
      ]
     },
     "execution_count": 44,
     "metadata": {},
     "output_type": "execute_result"
    },
    {
     "data": {
      "image/png": "[encoded data removed]",
      "text/plain": [
       "<Figure size 640x480 with 1 Axes>"
      ]
     },
     "metadata": {},
     "output_type": "display_data"
    }
   ],
   "source": [
    "plt.plot(day_new, scaler.inverse_transform(df1[906:]))\n",
    "plt.plot(day_pred,scaler.inverse_transform(lst_output))"
   ]
  },
  {
   "cell_type": "code",
   "execution_count": 47,
   "metadata": {},
   "outputs": [
    {
     "data": {
      "text/plain": [
       "[<matplotlib.lines.Line2D at 0x1b204853850>]"
      ]
     },
     "execution_count": 47,
     "metadata": {},
     "output_type": "execute_result"
    },
    {
     "data": {
      "image/png": "[encoded data removed]",
      "text/plain": [
       "<Figure size 640x480 with 1 Axes>"
      ]
     },
     "metadata": {},
     "output_type": "display_data"
    }
   ],
   "source": [
    "df3 = df1.tolist()\n",
    "df3.extend(lst_output)\n",
    "plt.plot(df3[500:])"
   ]
  },
  {
   "cell_type": "code",
   "execution_count": null,
   "metadata": {},
   "outputs": [],
   "source": []
  }
 ],
 "metadata": {
  "kernelspec": {
   "display_name": "base",
   "language": "python",
   "name": "python3"
  },
  "language_info": {
   "codemirror_mode": {
    "name": "ipython",
    "version": 3
   },
   "file_extension": ".py",
   "mimetype": "text/x-python",
   "name": "python",
   "nbconvert_exporter": "python",
   "pygments_lexer": "ipython3",
   "version": "3.11.5"
  }
 },
 "nbformat": 4,
 "nbformat_minor": 2
}
